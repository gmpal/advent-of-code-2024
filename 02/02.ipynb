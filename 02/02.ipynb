{
 "cells": [
  {
   "cell_type": "markdown",
   "metadata": {},
   "source": [
    "# Part 1 - Safe / Unsafe\n",
    "\n",
    "One report per line: a report is safe if it is strictly monotonic and if deltas are at most 3"
   ]
  },
  {
   "cell_type": "code",
   "execution_count": 2,
   "metadata": {},
   "outputs": [],
   "source": [
    "with open('input.txt') as f: \n",
    "    reports = f.readlines()"
   ]
  },
  {
   "cell_type": "code",
   "execution_count": 5,
   "metadata": {},
   "outputs": [
    {
     "data": {
      "text/plain": [
       "432"
      ]
     },
     "execution_count": 5,
     "metadata": {},
     "output_type": "execute_result"
    }
   ],
   "source": [
    "import numpy as np \n",
    "\n",
    "def check_monotonicity(array: np.array): \n",
    "    first_direction = all(array[i] < array[i+1] for i in range(len(array)-1)) \n",
    "    second_direction = all(array[i] > array[i+1] for i in range(len(array)-1))\n",
    "    return first_direction or second_direction\n",
    "\n",
    "def check_delta(array: np.array): \n",
    "    return all(abs(array[i] - array[i+1]) <= 3 for i in range(len(array)-1))\n",
    "\n",
    "safe = 0\n",
    "for report in reports: \n",
    "    report_numeric = np.array(report.strip().split(' '), dtype=int)\n",
    "    if check_monotonicity(report_numeric) and check_delta(report_numeric): \n",
    "        safe += 1\n",
    "\n",
    "safe"
   ]
  },
  {
   "cell_type": "markdown",
   "metadata": {},
   "source": [
    "# Part 2 - Problem Dampener \n",
    "If we remove one level and its safe, it counts as safe "
   ]
  },
  {
   "cell_type": "code",
   "execution_count": 8,
   "metadata": {},
   "outputs": [
    {
     "data": {
      "text/plain": [
       "488"
      ]
     },
     "execution_count": 8,
     "metadata": {},
     "output_type": "execute_result"
    }
   ],
   "source": [
    "safe = 0\n",
    "for report in reports: \n",
    "    report_numeric = np.array(report.strip().split(' '), dtype=int)\n",
    "\n",
    "    for index_to_remove in range(len(report_numeric)):\n",
    "        report_numeric_without_element = np.delete(report_numeric, index_to_remove)\n",
    "        if check_monotonicity(report_numeric_without_element) and check_delta(report_numeric_without_element): \n",
    "            safe += 1\n",
    "            break\n",
    "\n",
    "safe"
   ]
  }
 ],
 "metadata": {
  "kernelspec": {
   "display_name": "tsw24",
   "language": "python",
   "name": "python3"
  },
  "language_info": {
   "codemirror_mode": {
    "name": "ipython",
    "version": 3
   },
   "file_extension": ".py",
   "mimetype": "text/x-python",
   "name": "python",
   "nbconvert_exporter": "python",
   "pygments_lexer": "ipython3",
   "version": "3.11.9"
  }
 },
 "nbformat": 4,
 "nbformat_minor": 2
}
