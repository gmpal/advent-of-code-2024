{
 "cells": [
  {
   "cell_type": "markdown",
   "metadata": {
    "vscode": {
     "languageId": "plaintext"
    }
   },
   "source": [
    "# Part 1 - searching for XMAS"
   ]
  },
  {
   "cell_type": "code",
   "execution_count": 92,
   "metadata": {},
   "outputs": [],
   "source": [
    "import numpy as np\n",
    "\n",
    "with open('input.txt') as f: \n",
    "    lines = f.readlines()\n",
    "\n",
    "lines = [line.strip() for line in lines]\n",
    "\n",
    "\n",
    "rows = np.array(list(lines[0]))\n",
    "for line in lines[1:]: \n",
    "    row = np.array(list(line))\n",
    "    rows = np.vstack((rows, row))"
   ]
  },
  {
   "cell_type": "code",
   "execution_count": 93,
   "metadata": {},
   "outputs": [],
   "source": [
    "import re\n",
    "regex = r\"XMAS\"\n",
    "\n",
    "def horizontal_search(rows: np.ndarray, key): \n",
    "    sum_ = 0\n",
    "    for row in rows: \n",
    "        joined = ''.join(row)\n",
    "        sum_ += len(re.findall(key, joined))\n",
    "    \n",
    "    return sum_\n",
    "\n",
    "def diagonal_search(rows: np.ndarray, key): \n",
    "    sum_ = 0\n",
    "    for i in range(-(rows.shape[0]+1), (rows.shape[1]+1)): \n",
    "        joined = ''.join(np.diag(rows,i))\n",
    "        # print(joined)\n",
    "        sum_ += len(re.findall(key, joined))\n",
    "    \n",
    "    return sum_\n",
    "\n",
    "\n",
    "def vertical_search(rows: np.ndarray, key): \n",
    "    return horizontal_search(rows.T, key)\n",
    "\n",
    "def horizontal_search_reverse(rows: np.ndarray, key): \n",
    "    return horizontal_search(np.fliplr(rows), key)\n",
    "\n",
    "def vertical_search_reverse(rows: np.ndarray, key): \n",
    "    return horizontal_search_reverse(rows.T, key)\n",
    "\n",
    "def diagonal_search_reverse(rows: np.ndarray, key):\n",
    "    return diagonal_search(np.flip(rows), key)\n",
    "\n",
    "def anti_diagonal_search(rows: np.ndarray, key):\n",
    "    return diagonal_search(np.fliplr(rows), key)\n",
    "\n",
    "def anti_diagonal_search_reverse(rows: np.ndarray, key): \n",
    "    return anti_diagonal_search(np.flip(rows), key)\n",
    "\n",
    "def complete_search(rows: np.ndarray, key): \n",
    "    return (horizontal_search(rows, key) + horizontal_search_reverse(rows, key) + \n",
    "            vertical_search(rows, key) + vertical_search_reverse(rows, key) + \n",
    "            diagonal_search(rows, key) + diagonal_search_reverse(rows,key) + \n",
    "            anti_diagonal_search(rows, key) + anti_diagonal_search_reverse(rows, key))\n"
   ]
  },
  {
   "cell_type": "code",
   "execution_count": 94,
   "metadata": {},
   "outputs": [
    {
     "data": {
      "text/plain": [
       "2401"
      ]
     },
     "execution_count": 94,
     "metadata": {},
     "output_type": "execute_result"
    }
   ],
   "source": [
    "complete_search(rows, regex)"
   ]
  },
  {
   "cell_type": "markdown",
   "metadata": {},
   "source": [
    "# Part 2 - X-MAS"
   ]
  },
  {
   "cell_type": "code",
   "execution_count": 95,
   "metadata": {},
   "outputs": [],
   "source": [
    "import numpy as np\n",
    "\n",
    "with open('input.txt') as f: \n",
    "    lines = f.readlines()\n",
    "\n",
    "lines = [line.strip() for line in lines]\n",
    "\n",
    "\n",
    "rows = np.array(list(lines[0]))\n",
    "for line in lines[1:]: \n",
    "    row = np.array(list(line))\n",
    "    rows = np.vstack((rows, row))"
   ]
  },
  {
   "cell_type": "markdown",
   "metadata": {},
   "source": [
    "Reconstruct the (row,col) coordinates from diagonal and position in the diagonal \n",
    "| Diagonal | Index | row | column |\n",
    "|----------|-------|-----|--------|\n",
    "| 0        | 0     | 0   | 0      |\n",
    "| 0        | 1     | 1   | 1      |\n",
    "| 0        | 2     | 2   | 2      |\n",
    "| 1        | 0     | 0   | 1      |\n",
    "| 1        | 1     | 1   | 2      |\n",
    "| -1       | 0     | 1   | 0      |\n",
    "| -1       | 1     | 2   | 1      |"
   ]
  },
  {
   "cell_type": "code",
   "execution_count": 96,
   "metadata": {},
   "outputs": [
    {
     "name": "stdout",
     "output_type": "stream",
     "text": [
      "(0, 0)\n",
      "(1, 1)\n",
      "(2, 2)\n",
      "(0, 1)\n",
      "(1, 2)\n",
      "(1, 0)\n",
      "(2, 1)\n"
     ]
    }
   ],
   "source": [
    "def reconstruct_coordinates(diagonal_index, position_in_diagonal):\n",
    "    if diagonal_index < 0: \n",
    "        starting = (abs(diagonal_index), 0)\n",
    "        return (starting[0] + position_in_diagonal, starting[1] + position_in_diagonal)\n",
    "    elif diagonal_index >= 0: \n",
    "        starting = (0, diagonal_index)\n",
    "        return (starting[0] + position_in_diagonal, starting[1] + position_in_diagonal)\n",
    "    \n",
    "for testing in [(0,0),(0,1),(0,2),(1,0),(1,1),(-1,0),(-1,1)]:\n",
    "    print(reconstruct_coordinates(*testing))\n"
   ]
  },
  {
   "cell_type": "code",
   "execution_count": 97,
   "metadata": {},
   "outputs": [],
   "source": [
    "def diagonal_search(rows: np.ndarray, key): \n",
    "    sum_ = 0\n",
    "    coordinates = []\n",
    "    for i in range(-(rows.shape[0]+1), (rows.shape[1]+1)): \n",
    "        joined = ''.join(np.diag(rows,i))\n",
    "        # print(joined)\n",
    "        matches = re.finditer(key, joined)\n",
    "        for match in matches:\n",
    "            central_index = match.start() + 1 # index of A letter\n",
    "            coordinates.append(reconstruct_coordinates(i,central_index))\n",
    "    return coordinates\n",
    "\n",
    "\n",
    "def diagonal_search_reverse(rows: np.ndarray, key):\n",
    "    coordinates_before_adjusting = diagonal_search(np.flip(rows), key)\n",
    "    return [(rows.shape[0] - 1 - x[0], rows.shape[1] - 1 - x[1]) for x in coordinates_before_adjusting]\n",
    "\n",
    "def anti_diagonal_search(rows: np.ndarray, key):\n",
    "    coordinates_before_adjusting = diagonal_search(np.fliplr(rows), key)\n",
    "    return [(x[0], rows.shape[1] - 1 - x[1]) for x in coordinates_before_adjusting]\n",
    "\n",
    "def anti_diagonal_search_reverse(rows: np.ndarray, key): \n",
    "    coordinates_before_adjusting = anti_diagonal_search(np.flip(rows), key)\n",
    "    return [(rows.shape[0] - 1 - x[0], rows.shape[1] - 1 - x[1]) for x in coordinates_before_adjusting]\n",
    "\n",
    "import re\n",
    "regex = r\"MAS\"\n",
    "\n",
    "coordinates_diagonal = diagonal_search(rows, regex)\n",
    "coordinates_diagonal_reverse = diagonal_search_reverse(rows,regex) \n",
    "coordinates_anti_diagonal = anti_diagonal_search(rows, regex)\n",
    "coordinates_anti_diagonal_reverse = anti_diagonal_search_reverse(rows, regex)"
   ]
  },
  {
   "cell_type": "code",
   "execution_count": 99,
   "metadata": {},
   "outputs": [
    {
     "data": {
      "text/plain": [
       "1822"
      ]
     },
     "execution_count": 99,
     "metadata": {},
     "output_type": "execute_result"
    }
   ],
   "source": [
    "len(set(coordinates_diagonal + coordinates_diagonal_reverse).intersection(set(coordinates_anti_diagonal + coordinates_anti_diagonal_reverse)))"
   ]
  },
  {
   "cell_type": "code",
   "execution_count": 89,
   "metadata": {},
   "outputs": [
    {
     "name": "stdout",
     "output_type": "stream",
     "text": [
      "(3, 2)\n",
      "[['M' 'X' 'S']\n",
      " ['S' 'A' 'M']\n",
      " ['M' 'A' 'S']]\n",
      "(6, 5)\n",
      "[['M' 'X' 'X']\n",
      " ['S' 'A' 'S']\n",
      " ['M' 'A' 'S']]\n",
      "(1, 2)\n",
      "[['M' 'M' 'S']\n",
      " ['S' 'A' 'M']\n",
      " ['M' 'X' 'S']]\n",
      "(2, 6)\n",
      "[['M' 'S' 'M']\n",
      " ['M' 'A' 'A']\n",
      " ['S' 'M' 'S']]\n"
     ]
    }
   ],
   "source": [
    "def print_kernel(coordinates): \n",
    "    x, y = coordinates\n",
    "    print(rows[x-1:x+2, y-1:y+2])\n",
    "\n",
    "for coordinate in coordinates_diagonal:\n",
    "    print(coordinate)\n",
    "    print_kernel(coordinate)"
   ]
  }
 ],
 "metadata": {
  "kernelspec": {
   "display_name": "tsw24",
   "language": "python",
   "name": "python3"
  },
  "language_info": {
   "codemirror_mode": {
    "name": "ipython",
    "version": 3
   },
   "file_extension": ".py",
   "mimetype": "text/x-python",
   "name": "python",
   "nbconvert_exporter": "python",
   "pygments_lexer": "ipython3",
   "version": "3.11.9"
  }
 },
 "nbformat": 4,
 "nbformat_minor": 2
}
