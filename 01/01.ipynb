{
 "cells": [
  {
   "cell_type": "markdown",
   "metadata": {},
   "source": [
    "# Part 1 - Distance between two sorted lists"
   ]
  },
  {
   "cell_type": "code",
   "execution_count": 1,
   "metadata": {},
   "outputs": [],
   "source": [
    "with open('input.txt') as f: \n",
    "    lines = f.readlines()"
   ]
  },
  {
   "cell_type": "code",
   "execution_count": 12,
   "metadata": {},
   "outputs": [],
   "source": [
    "import numpy as np \n",
    "\n",
    "first_numbers = np.array([], dtype=int)\n",
    "second_numbers = np.array([], dtype=int)\n",
    "for line in lines:\n",
    "    a,_,_,b = line.strip().split(' ')\n",
    "    first_numbers = np.append(first_numbers, int(a))\n",
    "    second_numbers = np.append(second_numbers, int(b))\n",
    "\n"
   ]
  },
  {
   "cell_type": "code",
   "execution_count": 17,
   "metadata": {},
   "outputs": [
    {
     "data": {
      "text/plain": [
       "np.int64(2344935)"
      ]
     },
     "execution_count": 17,
     "metadata": {},
     "output_type": "execute_result"
    }
   ],
   "source": [
    "first_numbers = np.sort(first_numbers)\n",
    "second_numbers = np.sort(second_numbers)\n",
    "\n",
    "delta = second_numbers - first_numbers\n",
    "\n",
    "np.sum(np.abs(delta))"
   ]
  },
  {
   "cell_type": "markdown",
   "metadata": {},
   "source": [
    "# Part 2 - Similarity Score\n",
    "\n",
    "Here are the same example lists again:\n",
    "\n",
    "```\n",
    "3   4\n",
    "4   3\n",
    "2   5\n",
    "1   3\n",
    "3   9\n",
    "3   3\n",
    "```\n",
    "For these example lists, here is the process of finding the similarity score:\n",
    "\n",
    "The first number in the left list is 3. It appears in the right list three times, so the similarity score increases by 3 * 3 = 9. <br>\n",
    "The second number in the left list is 4. It appears in the right list once, so the similarity score increases by 4 * 1 = 4. <br>\n",
    "The third number in the left list is 2. It does not appear in the right list, so the similarity score does not increase (2 * 0 = 0). <br>\n",
    "The fourth number, 1, also does not appear in the right list. <br>\n",
    "The fifth number, 3, appears in the right list three times; the similarity score increases by 9. <br>\n",
    "The last number, 3, appears in the right list three times; the similarity score again increases by 9. <br>\n",
    "So, for these example lists, the similarity score at the end of this process is 31 (9 + 4 + 0 + 0 + 9 + 9). <br>"
   ]
  },
  {
   "cell_type": "code",
   "execution_count": 18,
   "metadata": {},
   "outputs": [],
   "source": [
    "# brute force solution\n",
    "\n",
    "def count_occurrences(element:int, array:np.array) -> int:\n",
    "    return np.sum(array == element)\n",
    "\n",
    "number_occurrencies_dict = {number: count_occurrences(number, second_numbers) for number in first_numbers}"
   ]
  },
  {
   "cell_type": "code",
   "execution_count": 20,
   "metadata": {},
   "outputs": [
    {
     "data": {
      "text/plain": [
       "np.int64(27647262)"
      ]
     },
     "execution_count": 20,
     "metadata": {},
     "output_type": "execute_result"
    }
   ],
   "source": [
    "sum_ = 0 \n",
    "for key, value in number_occurrencies_dict.items():\n",
    "    sum_ += key * value \n",
    "\n",
    "sum_"
   ]
  }
 ],
 "metadata": {
  "kernelspec": {
   "display_name": "tsw24",
   "language": "python",
   "name": "python3"
  },
  "language_info": {
   "codemirror_mode": {
    "name": "ipython",
    "version": 3
   },
   "file_extension": ".py",
   "mimetype": "text/x-python",
   "name": "python",
   "nbconvert_exporter": "python",
   "pygments_lexer": "ipython3",
   "version": "3.11.9"
  }
 },
 "nbformat": 4,
 "nbformat_minor": 2
}
