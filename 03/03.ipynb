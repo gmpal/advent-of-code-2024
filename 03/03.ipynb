{
 "cells": [
  {
   "cell_type": "markdown",
   "metadata": {},
   "source": [
    "# Part 1 - Mul instructions \n",
    "scan for mul(int,int)"
   ]
  },
  {
   "cell_type": "code",
   "execution_count": 71,
   "metadata": {},
   "outputs": [],
   "source": [
    "with open('input.txt') as f: \n",
    "    memory = f.readlines()"
   ]
  },
  {
   "cell_type": "markdown",
   "metadata": {},
   "source": [
    "# Part 2 - do() and don't()"
   ]
  },
  {
   "cell_type": "code",
   "execution_count": 73,
   "metadata": {},
   "outputs": [
    {
     "data": {
      "text/plain": [
       "684"
      ]
     },
     "execution_count": 73,
     "metadata": {},
     "output_type": "execute_result"
    }
   ],
   "source": [
    "import re\n",
    "regex = r'mul\\(\\d{1,3},\\d{1,3}\\)'\n",
    "regex_dont = r\"don't\\(\\)\"\n",
    "regex_do = r'do\\(\\)'\n",
    "sum_ = 0\n",
    "\n",
    "# make one single line to avoid end-of-line dont() to be ignored \n",
    "line = ''.join(memory)\n",
    "\n",
    "# for line in memory:\n",
    "\n",
    "line_dict = {} # key: starting position, value: mul / dont / do\n",
    "\n",
    "matches_mul = re.findall(regex, line)\n",
    "len(matches_mul)"
   ]
  },
  {
   "cell_type": "code",
   "execution_count": 70,
   "metadata": {},
   "outputs": [
    {
     "data": {
      "text/plain": [
       "82045421"
      ]
     },
     "execution_count": 70,
     "metadata": {},
     "output_type": "execute_result"
    }
   ],
   "source": [
    "import re\n",
    "regex = r'mul\\(\\d{1,3},\\d{1,3}\\)'\n",
    "regex_dont = r\"don't\\(\\)\"\n",
    "regex_do = r'do\\(\\)'\n",
    "sum_ = 0\n",
    "\n",
    "# make one single line to avoid end-of-line dont() to be ignored \n",
    "line = ''.join(memory)\n",
    "\n",
    "# for line in memory:\n",
    "\n",
    "line_dict = {} # key: starting position, value: mul / dont / do\n",
    "\n",
    "matches_mul = re.finditer(regex, line)\n",
    "matches_dont = re.finditer(regex_dont, line)\n",
    "matches_do = re.finditer(regex_do, line)\n",
    "for match in matches_mul:\n",
    "    starting_index = match.start()\n",
    "    found_mul = match.group()\n",
    "    line_dict[starting_index] = found_mul\n",
    "\n",
    "for match in matches_dont:\n",
    "    starting_index = match.start()\n",
    "    found_dont = match.group()\n",
    "    line_dict[starting_index] = found_dont\n",
    "\n",
    "for match in matches_do:\n",
    "    starting_index = match.start()\n",
    "    found_do = match.group()\n",
    "    line_dict[starting_index] = found_do\n",
    "\n",
    "# sort by key \n",
    "line_dict = dict(sorted(line_dict.items()))\n",
    "\n",
    "active = True\n",
    "for key in line_dict:\n",
    "    if \"don't()\" == line_dict[key]:\n",
    "            active = False\n",
    "    if 'do()' == line_dict[key]:\n",
    "            active = True\n",
    "    if active:\n",
    "        if 'mul' in line_dict[key]:\n",
    "            # get the two numbers\n",
    "            numbers = re.findall(r'\\d+', line_dict[key])\n",
    "            number1 = int(numbers[0])\n",
    "            number2 = int(numbers[1])\n",
    "            sum_ += number1 * number2\n",
    "\n",
    "sum_\n",
    "        "
   ]
  },
  {
   "cell_type": "code",
   "execution_count": null,
   "metadata": {},
   "outputs": [],
   "source": []
  }
 ],
 "metadata": {
  "kernelspec": {
   "display_name": "tsw24",
   "language": "python",
   "name": "python3"
  },
  "language_info": {
   "codemirror_mode": {
    "name": "ipython",
    "version": 3
   },
   "file_extension": ".py",
   "mimetype": "text/x-python",
   "name": "python",
   "nbconvert_exporter": "python",
   "pygments_lexer": "ipython3",
   "version": "3.11.9"
  }
 },
 "nbformat": 4,
 "nbformat_minor": 2
}
